{
  "cells": [
    {
      "attachments": {},
      "cell_type": "markdown",
      "metadata": {},
      "source": [
        "Using spacy to indentify UMLS terms. \n",
        "\n",
        "Spacy steps:\n",
        "  1. Load: en_core_sci_lg\n",
        "  2. Add to pipe: scispacy_linker\n",
        "  3. Add to pipe: entity_ruler\n",
        "     - Built with: filtered_umls_atoms\n",
        "\n",
        "Training EntityLinker with UMLS "
      ]
    },
    {
      "cell_type": "code",
      "execution_count": 13,
      "metadata": {},
      "outputs": [
        {
          "name": "stderr",
          "output_type": "stream",
          "text": [
            "/Library/Frameworks/Python.framework/Versions/3.10/lib/python3.10/site-packages/sklearn/base.py:329: UserWarning: Trying to unpickle estimator TfidfTransformer from version 0.20.3 when using version 1.1.1. This might lead to breaking code or invalid results. Use at your own risk. For more info please refer to:\n",
            "https://scikit-learn.org/stable/model_persistence.html#security-maintainability-limitations\n",
            "  warnings.warn(\n",
            "/Library/Frameworks/Python.framework/Versions/3.10/lib/python3.10/site-packages/sklearn/base.py:329: UserWarning: Trying to unpickle estimator TfidfVectorizer from version 0.20.3 when using version 1.1.1. This might lead to breaking code or invalid results. Use at your own risk. For more info please refer to:\n",
            "https://scikit-learn.org/stable/model_persistence.html#security-maintainability-limitations\n",
            "  warnings.warn(\n"
          ]
        },
        {
          "data": {
            "text/plain": [
              "<scispacy.linking.EntityLinker at 0x2d90bac50>"
            ]
          },
          "execution_count": 13,
          "metadata": {},
          "output_type": "execute_result"
        }
      ],
      "source": [
        "import os\n",
        "from scispacy.linking import EntityLinker\n",
        "import spacy\n",
        "from dotenv import load_dotenv\n",
        "import pandas as pd\n",
        "from tqdm.auto import tqdm\n",
        "import pandas as pd\n",
        "\n",
        "\n",
        "dir_downloads = os.path.abspath(f'{os.getcwd()}/../src/_downloads')\n",
        "\n",
        "load_dotenv()\n",
        "EntityLinker()"
      ]
    },
    {
      "cell_type": "code",
      "execution_count": 14,
      "metadata": {},
      "outputs": [],
      "source": [
        "nlp = spacy.load('en_core_sci_sm')\n",
        "nlp.add_pipe(\"scispacy_linker\", config={\"resolve_abbreviations\": True,\n",
        "                                        \"linker_name\": \"umls\",\n",
        "                                        \"threshold\":0.85,\n",
        "                                        \"filter_for_definitions\": False,\n",
        "                                        #\"disabling\": [\"tagger\", \"parser\", \"attribute_ruler\", \"lemmatizer\"]\n",
        "                                        })\n",
        "ruler = nlp.add_pipe(\"entity_ruler\",before=\"tok2vec\")"
      ]
    },
    {
      "cell_type": "code",
      "execution_count": 16,
      "metadata": {},
      "outputs": [],
      "source": [
        "def create_umls_entity_ruler(ruler, df_cleaned_umls_terms):\n",
        "    \"\"\"A dummy docstring.\"\"\"\n",
        "    print(\"Creating UMLS entity ruler...\")\n",
        "    patterns = []\n",
        "    for _, row in tqdm(df_cleaned_umls_terms.iterrows(), total=df_cleaned_umls_terms.shape[0]):\n",
        "        patterns.append(\n",
        "            {\"label\": row[\"CUI\"], \"pattern\": row[\"STR\"], \"id\":row[\"CUI\"]})\n",
        "    ruler.add_patterns(patterns)\n"
      ]
    },
    {
      "cell_type": "code",
      "execution_count": 7,
      "metadata": {},
      "outputs": [],
      "source": [
        "def process_product_ingredient_groups(ingredients_df, nlp):\n",
        "    \"\"\"process_product_ingredient_groups.\"\"\"\n",
        "    print(\"Processing docs...\")\n",
        "    for ingredient in tqdm(ingredients_df.iterrows(),\n",
        "                           total=ingredients_df.shape[0]):\n",
        "        doc = nlp(\n",
        "            str(ingredient[1]['display'])\n",
        "        )\n",
        "        code = ingredient[1]['code']\n",
        "        term_type = \"PARENT\"\n",
        "        entry_count = 0\n",
        "        for entry in doc.ents:\n",
        "            entry_count += 1\n",
        "            if entry_count != 1:\n",
        "                term_type=\"CHILD\"\n",
        "\n",
        "            if entry._.kb_ents:\n",
        "                umls_cui = entry._.kb_ents[0][0]\n",
        "                umls_term = entry.text\n",
        "                data = {\n",
        "                    'ingredient':ingredient[1]['display'],\n",
        "                    'code':code,\n",
        "                    'term_type':term_type,\n",
        "                    'umls_cui':umls_cui,\n",
        "                    'umls_term':umls_term.upper()\n",
        "                }\n",
        "                print(data)\n",
        "           "
      ]
    },
    {
      "cell_type": "code",
      "execution_count": 17,
      "metadata": {},
      "outputs": [
        {
          "name": "stdout",
          "output_type": "stream",
          "text": [
            "Creating UMLS entity ruler...\n"
          ]
        },
        {
          "name": "stderr",
          "output_type": "stream",
          "text": [
            "100%|██████████| 1329481/1329481 [00:20<00:00, 65809.35it/s]\n"
          ]
        }
      ],
      "source": [
        "#spacy.require_gpu()\n",
        "#device = torch.device(\"cuda\" if torch.cuda.is_available() else \"cpu\")\n",
        "df_cleaned_umls_terms = pd.read_csv(f\"{dir_downloads}/umls-data/filtered_umls_atoms.csv\")\n",
        "\n",
        "create_umls_entity_ruler(ruler, df_cleaned_umls_terms)"
      ]
    },
    {
      "cell_type": "code",
      "execution_count": 18,
      "metadata": {},
      "outputs": [],
      "source": [
        "config = nlp.config\n",
        "bytes_data = nlp.to_bytes()\n"
      ]
    },
    {
      "cell_type": "code",
      "execution_count": 19,
      "metadata": {},
      "outputs": [],
      "source": [
        "nlp.to_disk(f\"{dir_downloads}/umls-data/umls_ner_model\")"
      ]
    },
    {
      "cell_type": "code",
      "execution_count": null,
      "metadata": {},
      "outputs": [],
      "source": []
    },
    {
      "cell_type": "code",
      "execution_count": 21,
      "metadata": {},
      "outputs": [
        {
          "ename": "TypeError",
          "evalue": "Object of type bytes is not JSON serializable",
          "output_type": "error",
          "traceback": [
            "\u001b[0;31m---------------------------------------------------------------------------\u001b[0m",
            "\u001b[0;31mTypeError\u001b[0m                                 Traceback (most recent call last)",
            "\u001b[1;32m/Users/jamesallain/Desktop/apps/fhir-server/notebooks/5.1_ner__insert_product_umls_terms.ipynb Cell 10\u001b[0m in \u001b[0;36m<cell line: 5>\u001b[0;34m()\u001b[0m\n\u001b[1;32m      <a href='vscode-notebook-cell:/Users/jamesallain/Desktop/apps/fhir-server/notebooks/5.1_ner__insert_product_umls_terms.ipynb#X13sZmlsZQ%3D%3D?line=3'>4</a>\u001b[0m path \u001b[39m=\u001b[39m \u001b[39mf\u001b[39m\u001b[39m\"\u001b[39m\u001b[39m{\u001b[39;00mdir_downloads\u001b[39m}\u001b[39;00m\u001b[39m/data\u001b[39m\u001b[39m\"\u001b[39m\n\u001b[1;32m      <a href='vscode-notebook-cell:/Users/jamesallain/Desktop/apps/fhir-server/notebooks/5.1_ner__insert_product_umls_terms.ipynb#X13sZmlsZQ%3D%3D?line=4'>5</a>\u001b[0m \u001b[39mwith\u001b[39;00m \u001b[39mopen\u001b[39m(path,\u001b[39m\"\u001b[39m\u001b[39mw\u001b[39m\u001b[39m\"\u001b[39m, encoding\u001b[39m=\u001b[39m\u001b[39m\"\u001b[39m\u001b[39mutf8\u001b[39m\u001b[39m\"\u001b[39m) \u001b[39mas\u001b[39;00m f:\n\u001b[0;32m----> <a href='vscode-notebook-cell:/Users/jamesallain/Desktop/apps/fhir-server/notebooks/5.1_ner__insert_product_umls_terms.ipynb#X13sZmlsZQ%3D%3D?line=5'>6</a>\u001b[0m     f\u001b[39m.\u001b[39mwrite(json\u001b[39m.\u001b[39;49mdumps(bytes_data))\n",
            "File \u001b[0;32m/Library/Frameworks/Python.framework/Versions/3.10/lib/python3.10/json/__init__.py:231\u001b[0m, in \u001b[0;36mdumps\u001b[0;34m(obj, skipkeys, ensure_ascii, check_circular, allow_nan, cls, indent, separators, default, sort_keys, **kw)\u001b[0m\n\u001b[1;32m    226\u001b[0m \u001b[39m# cached encoder\u001b[39;00m\n\u001b[1;32m    227\u001b[0m \u001b[39mif\u001b[39;00m (\u001b[39mnot\u001b[39;00m skipkeys \u001b[39mand\u001b[39;00m ensure_ascii \u001b[39mand\u001b[39;00m\n\u001b[1;32m    228\u001b[0m     check_circular \u001b[39mand\u001b[39;00m allow_nan \u001b[39mand\u001b[39;00m\n\u001b[1;32m    229\u001b[0m     \u001b[39mcls\u001b[39m \u001b[39mis\u001b[39;00m \u001b[39mNone\u001b[39;00m \u001b[39mand\u001b[39;00m indent \u001b[39mis\u001b[39;00m \u001b[39mNone\u001b[39;00m \u001b[39mand\u001b[39;00m separators \u001b[39mis\u001b[39;00m \u001b[39mNone\u001b[39;00m \u001b[39mand\u001b[39;00m\n\u001b[1;32m    230\u001b[0m     default \u001b[39mis\u001b[39;00m \u001b[39mNone\u001b[39;00m \u001b[39mand\u001b[39;00m \u001b[39mnot\u001b[39;00m sort_keys \u001b[39mand\u001b[39;00m \u001b[39mnot\u001b[39;00m kw):\n\u001b[0;32m--> 231\u001b[0m     \u001b[39mreturn\u001b[39;00m _default_encoder\u001b[39m.\u001b[39;49mencode(obj)\n\u001b[1;32m    232\u001b[0m \u001b[39mif\u001b[39;00m \u001b[39mcls\u001b[39m \u001b[39mis\u001b[39;00m \u001b[39mNone\u001b[39;00m:\n\u001b[1;32m    233\u001b[0m     \u001b[39mcls\u001b[39m \u001b[39m=\u001b[39m JSONEncoder\n",
            "File \u001b[0;32m/Library/Frameworks/Python.framework/Versions/3.10/lib/python3.10/json/encoder.py:199\u001b[0m, in \u001b[0;36mJSONEncoder.encode\u001b[0;34m(self, o)\u001b[0m\n\u001b[1;32m    195\u001b[0m         \u001b[39mreturn\u001b[39;00m encode_basestring(o)\n\u001b[1;32m    196\u001b[0m \u001b[39m# This doesn't pass the iterator directly to ''.join() because the\u001b[39;00m\n\u001b[1;32m    197\u001b[0m \u001b[39m# exceptions aren't as detailed.  The list call should be roughly\u001b[39;00m\n\u001b[1;32m    198\u001b[0m \u001b[39m# equivalent to the PySequence_Fast that ''.join() would do.\u001b[39;00m\n\u001b[0;32m--> 199\u001b[0m chunks \u001b[39m=\u001b[39m \u001b[39mself\u001b[39;49m\u001b[39m.\u001b[39;49miterencode(o, _one_shot\u001b[39m=\u001b[39;49m\u001b[39mTrue\u001b[39;49;00m)\n\u001b[1;32m    200\u001b[0m \u001b[39mif\u001b[39;00m \u001b[39mnot\u001b[39;00m \u001b[39misinstance\u001b[39m(chunks, (\u001b[39mlist\u001b[39m, \u001b[39mtuple\u001b[39m)):\n\u001b[1;32m    201\u001b[0m     chunks \u001b[39m=\u001b[39m \u001b[39mlist\u001b[39m(chunks)\n",
            "File \u001b[0;32m/Library/Frameworks/Python.framework/Versions/3.10/lib/python3.10/json/encoder.py:257\u001b[0m, in \u001b[0;36mJSONEncoder.iterencode\u001b[0;34m(self, o, _one_shot)\u001b[0m\n\u001b[1;32m    252\u001b[0m \u001b[39melse\u001b[39;00m:\n\u001b[1;32m    253\u001b[0m     _iterencode \u001b[39m=\u001b[39m _make_iterencode(\n\u001b[1;32m    254\u001b[0m         markers, \u001b[39mself\u001b[39m\u001b[39m.\u001b[39mdefault, _encoder, \u001b[39mself\u001b[39m\u001b[39m.\u001b[39mindent, floatstr,\n\u001b[1;32m    255\u001b[0m         \u001b[39mself\u001b[39m\u001b[39m.\u001b[39mkey_separator, \u001b[39mself\u001b[39m\u001b[39m.\u001b[39mitem_separator, \u001b[39mself\u001b[39m\u001b[39m.\u001b[39msort_keys,\n\u001b[1;32m    256\u001b[0m         \u001b[39mself\u001b[39m\u001b[39m.\u001b[39mskipkeys, _one_shot)\n\u001b[0;32m--> 257\u001b[0m \u001b[39mreturn\u001b[39;00m _iterencode(o, \u001b[39m0\u001b[39;49m)\n",
            "File \u001b[0;32m/Library/Frameworks/Python.framework/Versions/3.10/lib/python3.10/json/encoder.py:179\u001b[0m, in \u001b[0;36mJSONEncoder.default\u001b[0;34m(self, o)\u001b[0m\n\u001b[1;32m    160\u001b[0m \u001b[39mdef\u001b[39;00m \u001b[39mdefault\u001b[39m(\u001b[39mself\u001b[39m, o):\n\u001b[1;32m    161\u001b[0m     \u001b[39m\"\"\"Implement this method in a subclass such that it returns\u001b[39;00m\n\u001b[1;32m    162\u001b[0m \u001b[39m    a serializable object for ``o``, or calls the base implementation\u001b[39;00m\n\u001b[1;32m    163\u001b[0m \u001b[39m    (to raise a ``TypeError``).\u001b[39;00m\n\u001b[0;32m   (...)\u001b[0m\n\u001b[1;32m    177\u001b[0m \n\u001b[1;32m    178\u001b[0m \u001b[39m    \"\"\"\u001b[39;00m\n\u001b[0;32m--> 179\u001b[0m     \u001b[39mraise\u001b[39;00m \u001b[39mTypeError\u001b[39;00m(\u001b[39mf\u001b[39m\u001b[39m'\u001b[39m\u001b[39mObject of type \u001b[39m\u001b[39m{\u001b[39;00mo\u001b[39m.\u001b[39m\u001b[39m__class__\u001b[39m\u001b[39m.\u001b[39m\u001b[39m__name__\u001b[39m\u001b[39m}\u001b[39;00m\u001b[39m \u001b[39m\u001b[39m'\u001b[39m\n\u001b[1;32m    180\u001b[0m                     \u001b[39mf\u001b[39m\u001b[39m'\u001b[39m\u001b[39mis not JSON serializable\u001b[39m\u001b[39m'\u001b[39m)\n",
            "\u001b[0;31mTypeError\u001b[0m: Object of type bytes is not JSON serializable"
          ]
        }
      ],
      "source": [
        "import json\n",
        "\n",
        "\n",
        "path = f\"{dir_downloads}/data\"\n",
        "with open(path,\"w\", encoding=\"utf8\") as f:\n",
        "    f.write(json.dumps(bytes_data))"
      ]
    },
    {
      "cell_type": "code",
      "execution_count": 8,
      "metadata": {},
      "outputs": [
        {
          "name": "stdout",
          "output_type": "stream",
          "text": [
            "Processing docs...\n"
          ]
        },
        {
          "name": "stderr",
          "output_type": "stream",
          "text": [
            "  6%|▋         | 1/16 [00:00<00:02,  5.19it/s]"
          ]
        },
        {
          "name": "stdout",
          "output_type": "stream",
          "text": [
            "{'ingredient': 'WHEY PROTEIN CONCENTRATE (WHEY PROTEIN CON-CENTRATE, SOY LECITHIN)', 'code': 13436424, 'term_type': 'PARENT', 'umls_cui': 'C0078479', 'umls_term': 'WHEY PROTEIN'}\n",
            "{'ingredient': 'WHEY PROTEIN CONCENTRATE (WHEY PROTEIN CON-CENTRATE, SOY LECITHIN)', 'code': 13436424, 'term_type': 'CHILD', 'umls_cui': 'C0872912', 'umls_term': 'SOY LECITHIN'}\n"
          ]
        },
        {
          "name": "stderr",
          "output_type": "stream",
          "text": [
            " 19%|█▉        | 3/16 [00:00<00:01, 11.23it/s]"
          ]
        },
        {
          "name": "stdout",
          "output_type": "stream",
          "text": [
            "{'ingredient': 'POLYDEXTROSE MICELLAR CASEIN', 'code': 95603427, 'term_type': 'PARENT', 'umls_cui': 'C0071545', 'umls_term': 'POLYDEXTROSE'}\n",
            "{'ingredient': 'POLYDEXTROSE MICELLAR CASEIN', 'code': 95603427, 'term_type': 'CHILD', 'umls_cui': 'C0007332', 'umls_term': 'CASEIN'}\n",
            "{'ingredient': 'WAXY MAIZE STARCH-MODIFIED', 'code': 23796462, 'term_type': 'PARENT', 'umls_cui': 'C2247329', 'umls_term': 'WAXY'}\n",
            "{'ingredient': 'SHORT-CHAIN FRUCTOOLIGOSAC-CHARIDES; LESS THAN 2% OF THE FOLLOWING: ARTIFICIAL FLAVOR', 'code': 23604808, 'term_type': 'CHILD', 'umls_cui': 'C2004457', 'umls_term': 'ARTIFICIAL'}\n",
            "{'ingredient': 'SHORT-CHAIN FRUCTOOLIGOSAC-CHARIDES; LESS THAN 2% OF THE FOLLOWING: ARTIFICIAL FLAVOR', 'code': 23604808, 'term_type': 'CHILD', 'umls_cui': 'C0596585', 'umls_term': 'FLAVOR'}\n"
          ]
        },
        {
          "name": "stderr",
          "output_type": "stream",
          "text": [
            " 38%|███▊      | 6/16 [00:00<00:00, 16.49it/s]"
          ]
        },
        {
          "name": "stdout",
          "output_type": "stream",
          "text": [
            "{'ingredient': 'DL-ALPHA-TOCOPHERYL ACETATE', 'code': 79334008, 'term_type': 'PARENT', 'umls_cui': 'C0000975', 'umls_term': 'ACETATE'}\n",
            "{'ingredient': 'SALT', 'code': 32383276, 'term_type': 'PARENT', 'umls_cui': 'C0036140', 'umls_term': 'SALT'}\n"
          ]
        },
        {
          "name": "stderr",
          "output_type": "stream",
          "text": [
            " 56%|█████▋    | 9/16 [00:00<00:00, 19.68it/s]"
          ]
        },
        {
          "name": "stdout",
          "output_type": "stream",
          "text": [
            "{'ingredient': 'CORN MALTODEXTRIN', 'code': 22670585, 'term_type': 'PARENT', 'umls_cui': 'C0010028', 'umls_term': 'CORN'}\n",
            "{'ingredient': 'SUCRALOSE', 'code': 46300735, 'term_type': 'PARENT', 'umls_cui': 'C0077046', 'umls_term': 'SUCRALOSE'}\n",
            "{'ingredient': 'ACESULFAME POTASSIUM', 'code': 57140259, 'term_type': 'PARENT', 'umls_cui': 'C0772228', 'umls_term': 'ACESULFAME'}\n",
            "{'ingredient': 'ACESULFAME POTASSIUM', 'code': 57140259, 'term_type': 'CHILD', 'umls_cui': 'C0032821', 'umls_term': 'POTASSIUM'}\n",
            "{'ingredient': 'THIAMINE HYDROCHLORIDE', 'code': 45237955, 'term_type': 'PARENT', 'umls_cui': 'C0770309', 'umls_term': 'THIAMINE HYDROCHLORIDE'}\n"
          ]
        },
        {
          "name": "stderr",
          "output_type": "stream",
          "text": [
            " 75%|███████▌  | 12/16 [00:00<00:00, 22.57it/s]"
          ]
        },
        {
          "name": "stdout",
          "output_type": "stream",
          "text": [
            "{'ingredient': 'RIBOFLAVIN', 'code': 47457067, 'term_type': 'PARENT', 'umls_cui': 'C0035527', 'umls_term': 'RIBOFLAVIN'}\n",
            "{'ingredient': 'NIACINAMIDE', 'code': 25900849, 'term_type': 'PARENT', 'umls_cui': 'C0028027', 'umls_term': 'NIACINAMIDE'}\n"
          ]
        },
        {
          "name": "stderr",
          "output_type": "stream",
          "text": [
            "100%|██████████| 16/16 [00:00<00:00, 20.08it/s]"
          ]
        },
        {
          "name": "stdout",
          "output_type": "stream",
          "text": [
            "{'ingredient': 'PYRIDOXINE HYDRO-CHLORIDE', 'code': 10682853, 'term_type': 'PARENT', 'umls_cui': 'C0034272', 'umls_term': 'PYRIDOXINE'}\n",
            "{'ingredient': 'FOLIC ACID', 'code': 96524214, 'term_type': 'PARENT', 'umls_cui': 'C0016410', 'umls_term': 'FOLIC ACID'}\n",
            "{'ingredient': 'CYANOCOBALAMIN AND CALCIUM PANTO-THENATE', 'code': 36152277, 'term_type': 'PARENT', 'umls_cui': 'C0042845', 'umls_term': 'CYANOCOBALAMIN'}\n"
          ]
        },
        {
          "name": "stderr",
          "output_type": "stream",
          "text": [
            "\n"
          ]
        }
      ],
      "source": [
        "#Small \n",
        "ingredients_df = pd.read_csv(f'ingredients.csv')\n",
        "process_product_ingredient_groups(ingredients_df, nlp)"
      ]
    }
  ],
  "metadata": {
    "kernelspec": {
      "display_name": "Python 3",
      "language": "python",
      "name": "python3"
    },
    "language_info": {
      "codemirror_mode": {
        "name": "ipython",
        "version": 3
      },
      "file_extension": ".py",
      "mimetype": "text/x-python",
      "name": "python",
      "nbconvert_exporter": "python",
      "pygments_lexer": "ipython3",
      "version": "3.10.5"
    },
    "orig_nbformat": 4,
    "vscode": {
      "interpreter": {
        "hash": "98590ff4fe04c8543246b2a01debd3de3c5ca9b666f43f1fa87d5110c692004c"
      }
    }
  },
  "nbformat": 4,
  "nbformat_minor": 2
}
