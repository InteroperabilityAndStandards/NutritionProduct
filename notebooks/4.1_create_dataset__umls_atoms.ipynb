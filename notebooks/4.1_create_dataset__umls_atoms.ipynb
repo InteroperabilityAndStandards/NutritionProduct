{
  "cells": [
    {
      "attachments": {},
      "cell_type": "markdown",
      "metadata": {},
      "source": [
        "# `umls_atoms` from UMLS"
      ]
    },
    {
      "cell_type": "code",
      "execution_count": 3,
      "metadata": {},
      "outputs": [
        {
          "name": "stdout",
          "output_type": "stream",
          "text": [
            "/Users/jamesallain/Desktop/apps/fhir-server/src/notebooks\n"
          ]
        }
      ],
      "source": [
        "\"\"\"4.1_create_umls_dataset\"\"\"\n",
        "import os\n",
        "import ssl\n",
        "from io import BytesIO\n",
        "from zipfile import ZipFile\n",
        "from urllib.request import urlopen\n",
        "import pandas as pd\n",
        "from zipfile import ZipFile\n",
        "from dotenv import load_dotenv\n",
        "\n",
        "load_dotenv()\n",
        "ssl._create_default_https_context = ssl._create_unverified_context\n",
        "\n",
        "dir_downloads = os.path.abspath(f'{os.getcwd()}/src/_downloads')\n",
        "filename='MRCONSO.RRF'\n"
      ]
    },
    {
      "cell_type": "code",
      "execution_count": 8,
      "metadata": {},
      "outputs": [
        {
          "name": "stderr",
          "output_type": "stream",
          "text": [
            "/var/folders/mg/2sj9lvqs1wngy9_gpqgcl45m0000gn/T/ipykernel_14935/2132446862.py:6: DtypeWarning: Columns (9,10,13) have mixed types. Specify dtype option on import or set low_memory=False.\n",
            "  df = pd.read_csv(f\"{dir_downloads}/{filename}\",\n"
          ]
        }
      ],
      "source": [
        "http_response = urlopen(f\"https://uts-ws.nlm.nih.gov/download?url=https://download.nlm.nih.gov/umls/kss/2022AA/umls-2022AA-mrconso.zip&apiKey={os.environ['UMLS_API_KEY']}\")\n",
        "zipfile = ZipFile(BytesIO(http_response.read()))\n",
        "zipfile.extractall(path=dir_downloads)\n",
        "\n",
        "\n",
        "df = pd.read_csv(f\"{dir_downloads}/{filename}\", \n",
        "                 sep='|', \n",
        "                 header=None, \n",
        "                 names=[\"CUI\",\"LAT\",\"TS\",\"LUI\",\"STT\",\"SUI\",\"ISPREF\",\"AUI\",\"SAUI\",\"SCUI\",\"SDUI\",\"SAB\",\"TTY\",\"CODE\",\"STR\",\"SRL\",\"SUPPRESS\",\"CVF\",\"BLANK\"])\n",
        "\n",
        "#lowercase name\n",
        "df['STR'] = df['STR'].str.lower()\n",
        "\n",
        "df_filter = df.filter(items=[\"CUI\", \"STR\", \"SAB\", \"TTY\", \"CODE\"])\n",
        "\n",
        "options = ['MSH', 'RXNORM']\n",
        "df_results = df_filter[df_filter[\"SAB\"].isin(options) ]\n",
        "\n",
        "df_results.to_csv(f\"{dir_downloads}/umls-data/filtered_umls_atoms.csv\")\n",
        "\n",
        "os.remove(f\"{dir_downloads}/{filename}\")\n",
        "\n"
      ]
    }
  ],
  "metadata": {
    "kernelspec": {
      "display_name": "Python 3.10.5 64-bit",
      "language": "python",
      "name": "python3"
    },
    "language_info": {
      "codemirror_mode": {
        "name": "ipython",
        "version": 3
      },
      "file_extension": ".py",
      "mimetype": "text/x-python",
      "name": "python",
      "nbconvert_exporter": "python",
      "pygments_lexer": "ipython3",
      "version": "3.10.5"
    },
    "orig_nbformat": 4,
    "vscode": {
      "interpreter": {
        "hash": "98590ff4fe04c8543246b2a01debd3de3c5ca9b666f43f1fa87d5110c692004c"
      }
    }
  },
  "nbformat": 4,
  "nbformat_minor": 2
}
