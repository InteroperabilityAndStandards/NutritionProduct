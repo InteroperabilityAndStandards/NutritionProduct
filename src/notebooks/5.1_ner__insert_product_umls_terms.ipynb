{
  "cells": [
    {
      "attachments": {},
      "cell_type": "markdown",
      "metadata": {},
      "source": [
        "Using spacy to indentify UMLS terms. \n",
        "\n",
        "Spacy steps:\n",
        "  1. Load: en_core_sci_lg\n",
        "  2. Add to pipe: scispacy_linker\n",
        "  3. Add to pipe: entity_ruler\n",
        "     - Built with: filtered_umls_atoms\n",
        "\n",
        "Training EntityLinker with UMLS "
      ]
    },
    {
      "cell_type": "code",
      "execution_count": 1,
      "metadata": {},
      "outputs": [
        {
          "name": "stderr",
          "output_type": "stream",
          "text": [
            "/Library/Frameworks/Python.framework/Versions/3.10/lib/python3.10/site-packages/tqdm/auto.py:22: TqdmWarning: IProgress not found. Please update jupyter and ipywidgets. See https://ipywidgets.readthedocs.io/en/stable/user_install.html\n",
            "  from .autonotebook import tqdm as notebook_tqdm\n",
            "/Library/Frameworks/Python.framework/Versions/3.10/lib/python3.10/site-packages/sklearn/base.py:329: UserWarning: Trying to unpickle estimator TfidfTransformer from version 0.20.3 when using version 1.1.1. This might lead to breaking code or invalid results. Use at your own risk. For more info please refer to:\n",
            "https://scikit-learn.org/stable/model_persistence.html#security-maintainability-limitations\n",
            "  warnings.warn(\n",
            "/Library/Frameworks/Python.framework/Versions/3.10/lib/python3.10/site-packages/sklearn/base.py:329: UserWarning: Trying to unpickle estimator TfidfVectorizer from version 0.20.3 when using version 1.1.1. This might lead to breaking code or invalid results. Use at your own risk. For more info please refer to:\n",
            "https://scikit-learn.org/stable/model_persistence.html#security-maintainability-limitations\n",
            "  warnings.warn(\n"
          ]
        },
        {
          "data": {
            "text/plain": [
              "<scispacy.linking.EntityLinker at 0x103b4ef20>"
            ]
          },
          "execution_count": 1,
          "metadata": {},
          "output_type": "execute_result"
        }
      ],
      "source": [
        "import os\n",
        "from scispacy.linking import EntityLinker\n",
        "import spacy\n",
        "from dotenv import load_dotenv\n",
        "import pandas as pd\n",
        "from tqdm.auto import tqdm\n",
        "import pandas as pd\n",
        "\n",
        "\n",
        "dir_downloads = os.path.abspath(f'{os.getcwd()}/../_downloads')\n",
        "\n",
        "load_dotenv()\n",
        "EntityLinker()"
      ]
    },
    {
      "cell_type": "code",
      "execution_count": 17,
      "metadata": {},
      "outputs": [],
      "source": [
        "nlp = spacy.load('en_core_sci_sm')\n",
        "nlp.add_pipe(\"scispacy_linker\", config={\"resolve_abbreviations\": True,\n",
        "                                        \"linker_name\": \"umls\",\n",
        "                                        \"threshold\":0.85,\n",
        "                                        \"filter_for_definitions\": False,\n",
        "                                        #\"disabling\": [\"tagger\", \"parser\", \"attribute_ruler\", \"lemmatizer\"]\n",
        "                                        })\n",
        "ruler = nlp.add_pipe(\"entity_ruler\",before=\"tok2vec\")"
      ]
    },
    {
      "cell_type": "code",
      "execution_count": 18,
      "metadata": {},
      "outputs": [],
      "source": [
        "def create_umls_entity_ruler(ruler, df_cleaned_umls_terms):\n",
        "    \"\"\"A dummy docstring.\"\"\"\n",
        "    print(\"Creating UMLS entity ruler...\")\n",
        "    patterns = []\n",
        "    for _, row in tqdm(df_cleaned_umls_terms.iterrows(), total=df_cleaned_umls_terms.shape[0]):\n",
        "        patterns.append(\n",
        "            {\"label\": row[\"CUI\"], \"pattern\": row[\"STR\"], \"id\":row[\"CUI\"]})\n",
        "    ruler.add_patterns(patterns)\n"
      ]
    },
    {
      "cell_type": "code",
      "execution_count": 12,
      "metadata": {},
      "outputs": [],
      "source": [
        "def process_product_ingredient_groups(ingredients_df, nlp):\n",
        "    \"\"\"process_product_ingredient_groups.\"\"\"\n",
        "    print(\"Processing docs...\")\n",
        "    for ingredient in tqdm(ingredients_df.iterrows(),\n",
        "                           total=ingredients_df.shape[0]):\n",
        "        doc = nlp(\n",
        "            str(ingredient[1]['display'])\n",
        "        )\n",
        "        code = ingredient[1]['code']\n",
        "        term_type = \"PARENT\"\n",
        "        entry_count = 0\n",
        "        for entry in doc.ents:\n",
        "            entry_count += 1\n",
        "            if entry_count != 1:\n",
        "                term_type=\"CHILD\"\n",
        "\n",
        "            if entry._.kb_ents:\n",
        "                umls_cui = entry._.kb_ents[0][0]\n",
        "                umls_term = entry.text\n",
        "                data = {\n",
        "                    'code':code,\n",
        "                    'term_type':term_type,\n",
        "                    'umls_cui':umls_cui,\n",
        "                    'umls_term':umls_term.upper()\n",
        "                }\n",
        "                print(data)\n",
        "           "
      ]
    },
    {
      "cell_type": "code",
      "execution_count": 19,
      "metadata": {},
      "outputs": [
        {
          "name": "stdout",
          "output_type": "stream",
          "text": [
            "Creating UMLS entity ruler...\n"
          ]
        },
        {
          "name": "stderr",
          "output_type": "stream",
          "text": [
            "100%|██████████| 1329481/1329481 [00:18<00:00, 70761.17it/s]\n"
          ]
        }
      ],
      "source": [
        "#spacy.require_gpu()\n",
        "#device = torch.device(\"cuda\" if torch.cuda.is_available() else \"cpu\")\n",
        "df_cleaned_umls_terms = pd.read_csv(f\"{dir_downloads}/umls-data/filtered_umls_atoms.csv\")\n",
        "\n",
        "create_umls_entity_ruler(ruler, df_cleaned_umls_terms)"
      ]
    },
    {
      "cell_type": "code",
      "execution_count": 13,
      "metadata": {},
      "outputs": [
        {
          "name": "stdout",
          "output_type": "stream",
          "text": [
            "Processing docs...\n"
          ]
        },
        {
          "name": "stderr",
          "output_type": "stream",
          "text": [
            " 12%|█▎        | 2/16 [00:00<00:00, 15.89it/s]"
          ]
        },
        {
          "name": "stdout",
          "output_type": "stream",
          "text": [
            "{'code': 13436424, 'term_type': 'PARENT', 'umls_cui': 'C0078479', 'umls_term': 'WHEY PROTEIN CONCENTRATE'}\n",
            "{'code': 95603427, 'term_type': 'PARENT', 'umls_cui': 'C0071545', 'umls_term': 'POLYDEXTROSE'}\n",
            "{'code': 23796462, 'term_type': 'PARENT', 'umls_cui': 'C2247329', 'umls_term': 'WAXY'}\n"
          ]
        },
        {
          "name": "stderr",
          "output_type": "stream",
          "text": [
            " 25%|██▌       | 4/16 [00:00<00:00, 17.89it/s]"
          ]
        },
        {
          "name": "stdout",
          "output_type": "stream",
          "text": [
            "{'code': 23604808, 'term_type': 'PARENT', 'umls_cui': 'C0439092', 'umls_term': 'LESS'}\n",
            "{'code': 62290169, 'term_type': 'PARENT', 'umls_cui': 'C0003968', 'umls_term': 'ASCORBIC ACID'}\n"
          ]
        },
        {
          "name": "stderr",
          "output_type": "stream",
          "text": [
            " 44%|████▍     | 7/16 [00:00<00:00, 21.20it/s]"
          ]
        },
        {
          "name": "stdout",
          "output_type": "stream",
          "text": [
            "{'code': 79334008, 'term_type': 'PARENT', 'umls_cui': 'C0994472', 'umls_term': 'DL-ALPHA-TOCOPHERYL'}\n",
            "{'code': 32383276, 'term_type': 'PARENT', 'umls_cui': 'C0036140', 'umls_term': 'SALT'}\n",
            "{'code': 22670585, 'term_type': 'PARENT', 'umls_cui': 'C0010028', 'umls_term': 'CORN'}\n"
          ]
        },
        {
          "name": "stderr",
          "output_type": "stream",
          "text": [
            " 62%|██████▎   | 10/16 [00:00<00:00, 22.90it/s]"
          ]
        },
        {
          "name": "stdout",
          "output_type": "stream",
          "text": [
            "{'code': 46300735, 'term_type': 'PARENT', 'umls_cui': 'C0077046', 'umls_term': 'SUCRALOSE'}\n",
            "{'code': 57140259, 'term_type': 'PARENT', 'umls_cui': 'C0772228', 'umls_term': 'ACESULFAME'}\n",
            "{'code': 45237955, 'term_type': 'PARENT', 'umls_cui': 'C0039840', 'umls_term': 'THIAMINE'}\n"
          ]
        },
        {
          "name": "stderr",
          "output_type": "stream",
          "text": [
            " 81%|████████▏ | 13/16 [00:00<00:00, 24.25it/s]"
          ]
        },
        {
          "name": "stdout",
          "output_type": "stream",
          "text": [
            "{'code': 47457067, 'term_type': 'PARENT', 'umls_cui': 'C0035527', 'umls_term': 'RIBOFLAVIN'}\n",
            "{'code': 25900849, 'term_type': 'PARENT', 'umls_cui': 'C0028027', 'umls_term': 'NIACINAMIDE'}\n",
            "{'code': 10682853, 'term_type': 'PARENT', 'umls_cui': 'C0700496', 'umls_term': 'PYRIDOXINE HYDRO-CHLORIDE'}\n"
          ]
        },
        {
          "name": "stderr",
          "output_type": "stream",
          "text": [
            "100%|██████████| 16/16 [00:00<00:00, 23.47it/s]"
          ]
        },
        {
          "name": "stdout",
          "output_type": "stream",
          "text": [
            "{'code': 96524214, 'term_type': 'PARENT', 'umls_cui': 'C0016410', 'umls_term': 'FOLIC ACID'}\n",
            "{'code': 36152277, 'term_type': 'PARENT', 'umls_cui': 'C0042845', 'umls_term': 'CYANOCOBALAMIN'}\n"
          ]
        },
        {
          "name": "stderr",
          "output_type": "stream",
          "text": [
            "\n"
          ]
        }
      ],
      "source": [
        "ingredients_df = pd.read_csv(f'ingredients.csv')\n",
        "process_product_ingredient_groups(ingredients_df, nlp)\n"
      ]
    },
    {
      "cell_type": "code",
      "execution_count": 20,
      "metadata": {},
      "outputs": [
        {
          "name": "stdout",
          "output_type": "stream",
          "text": [
            "Processing docs...\n"
          ]
        },
        {
          "name": "stderr",
          "output_type": "stream",
          "text": [
            "  6%|▋         | 1/16 [00:00<00:01,  8.37it/s]"
          ]
        },
        {
          "name": "stdout",
          "output_type": "stream",
          "text": [
            "{'code': 13436424, 'term_type': 'PARENT', 'umls_cui': 'C0078479', 'umls_term': 'WHEY PROTEIN'}\n",
            "{'code': 13436424, 'term_type': 'CHILD', 'umls_cui': 'C0872912', 'umls_term': 'SOY LECITHIN'}\n",
            "{'code': 95603427, 'term_type': 'PARENT', 'umls_cui': 'C0071545', 'umls_term': 'POLYDEXTROSE'}\n",
            "{'code': 95603427, 'term_type': 'CHILD', 'umls_cui': 'C0007332', 'umls_term': 'CASEIN'}\n"
          ]
        },
        {
          "name": "stderr",
          "output_type": "stream",
          "text": [
            " 19%|█▉        | 3/16 [00:00<00:00, 13.70it/s]"
          ]
        },
        {
          "name": "stdout",
          "output_type": "stream",
          "text": [
            "{'code': 23796462, 'term_type': 'PARENT', 'umls_cui': 'C2247329', 'umls_term': 'WAXY'}\n",
            "{'code': 23604808, 'term_type': 'CHILD', 'umls_cui': 'C2004457', 'umls_term': 'ARTIFICIAL'}\n",
            "{'code': 23604808, 'term_type': 'CHILD', 'umls_cui': 'C0596585', 'umls_term': 'FLAVOR'}\n"
          ]
        },
        {
          "name": "stderr",
          "output_type": "stream",
          "text": [
            " 38%|███▊      | 6/16 [00:00<00:00, 18.18it/s]"
          ]
        },
        {
          "name": "stdout",
          "output_type": "stream",
          "text": [
            "{'code': 79334008, 'term_type': 'PARENT', 'umls_cui': 'C0000975', 'umls_term': 'ACETATE'}\n",
            "{'code': 32383276, 'term_type': 'PARENT', 'umls_cui': 'C0036140', 'umls_term': 'SALT'}\n"
          ]
        },
        {
          "name": "stderr",
          "output_type": "stream",
          "text": [
            " 56%|█████▋    | 9/16 [00:00<00:00, 20.17it/s]"
          ]
        },
        {
          "name": "stdout",
          "output_type": "stream",
          "text": [
            "{'code': 22670585, 'term_type': 'PARENT', 'umls_cui': 'C0010028', 'umls_term': 'CORN'}\n",
            "{'code': 46300735, 'term_type': 'PARENT', 'umls_cui': 'C0077046', 'umls_term': 'SUCRALOSE'}\n",
            "{'code': 57140259, 'term_type': 'PARENT', 'umls_cui': 'C0772228', 'umls_term': 'ACESULFAME'}\n",
            "{'code': 57140259, 'term_type': 'CHILD', 'umls_cui': 'C0032821', 'umls_term': 'POTASSIUM'}\n"
          ]
        },
        {
          "name": "stderr",
          "output_type": "stream",
          "text": [
            " 75%|███████▌  | 12/16 [00:00<00:00, 21.84it/s]"
          ]
        },
        {
          "name": "stdout",
          "output_type": "stream",
          "text": [
            "{'code': 45237955, 'term_type': 'PARENT', 'umls_cui': 'C0770309', 'umls_term': 'THIAMINE HYDROCHLORIDE'}\n",
            "{'code': 47457067, 'term_type': 'PARENT', 'umls_cui': 'C0035527', 'umls_term': 'RIBOFLAVIN'}\n",
            "{'code': 25900849, 'term_type': 'PARENT', 'umls_cui': 'C0028027', 'umls_term': 'NIACINAMIDE'}\n"
          ]
        },
        {
          "name": "stderr",
          "output_type": "stream",
          "text": [
            "100%|██████████| 16/16 [00:00<00:00, 20.69it/s]"
          ]
        },
        {
          "name": "stdout",
          "output_type": "stream",
          "text": [
            "{'code': 10682853, 'term_type': 'PARENT', 'umls_cui': 'C0034272', 'umls_term': 'PYRIDOXINE'}\n",
            "{'code': 96524214, 'term_type': 'PARENT', 'umls_cui': 'C0016410', 'umls_term': 'FOLIC ACID'}\n",
            "{'code': 36152277, 'term_type': 'PARENT', 'umls_cui': 'C0042845', 'umls_term': 'CYANOCOBALAMIN'}\n"
          ]
        },
        {
          "name": "stderr",
          "output_type": "stream",
          "text": [
            "\n"
          ]
        }
      ],
      "source": [
        "ingredients_df = pd.read_csv(f'ingredients.csv')\n",
        "process_product_ingredient_groups(ingredients_df, nlp)"
      ]
    }
  ],
  "metadata": {
    "kernelspec": {
      "display_name": "Python 3",
      "language": "python",
      "name": "python3"
    },
    "language_info": {
      "codemirror_mode": {
        "name": "ipython",
        "version": 3
      },
      "file_extension": ".py",
      "mimetype": "text/x-python",
      "name": "python",
      "nbconvert_exporter": "python",
      "pygments_lexer": "ipython3",
      "version": "3.10.5"
    },
    "orig_nbformat": 4,
    "vscode": {
      "interpreter": {
        "hash": "98590ff4fe04c8543246b2a01debd3de3c5ca9b666f43f1fa87d5110c692004c"
      }
    }
  },
  "nbformat": 4,
  "nbformat_minor": 2
}
