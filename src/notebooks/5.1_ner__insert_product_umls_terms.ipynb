{
  "cells": [
    {
      "attachments": {},
      "cell_type": "markdown",
      "metadata": {},
      "source": [
        "Using spacy to indentify UMLS terms. \n",
        "\n",
        "Spacy steps:\n",
        "  1. Load: en_core_sci_lg\n",
        "  2. Add to pipe: scispacy_linker\n",
        "  3. Add to pipe: entity_ruler\n",
        "     - Built with: filtered_umls_atoms\n",
        "\n",
        "Training EntityLinker with UMLS "
      ]
    },
    {
      "cell_type": "code",
      "execution_count": 1,
      "metadata": {},
      "outputs": [
        {
          "name": "stderr",
          "output_type": "stream",
          "text": [
            "/Library/Frameworks/Python.framework/Versions/3.10/lib/python3.10/site-packages/tqdm/auto.py:22: TqdmWarning: IProgress not found. Please update jupyter and ipywidgets. See https://ipywidgets.readthedocs.io/en/stable/user_install.html\n",
            "  from .autonotebook import tqdm as notebook_tqdm\n",
            "/Library/Frameworks/Python.framework/Versions/3.10/lib/python3.10/site-packages/sklearn/base.py:329: UserWarning: Trying to unpickle estimator TfidfTransformer from version 0.20.3 when using version 1.1.1. This might lead to breaking code or invalid results. Use at your own risk. For more info please refer to:\n",
            "https://scikit-learn.org/stable/model_persistence.html#security-maintainability-limitations\n",
            "  warnings.warn(\n",
            "/Library/Frameworks/Python.framework/Versions/3.10/lib/python3.10/site-packages/sklearn/base.py:329: UserWarning: Trying to unpickle estimator TfidfVectorizer from version 0.20.3 when using version 1.1.1. This might lead to breaking code or invalid results. Use at your own risk. For more info please refer to:\n",
            "https://scikit-learn.org/stable/model_persistence.html#security-maintainability-limitations\n",
            "  warnings.warn(\n"
          ]
        },
        {
          "data": {
            "text/plain": [
              "<scispacy.linking.EntityLinker at 0x1077cf5e0>"
            ]
          },
          "execution_count": 1,
          "metadata": {},
          "output_type": "execute_result"
        }
      ],
      "source": [
        "import os\n",
        "from scispacy.linking import EntityLinker\n",
        "import spacy\n",
        "from dotenv import load_dotenv\n",
        "import pandas as pd\n",
        "from tqdm.auto import tqdm\n",
        "\n",
        "\n",
        "dir_downloads = os.path.abspath(f'{os.getcwd()}/../_downloads')\n",
        "\n",
        "load_dotenv()\n",
        "EntityLinker()"
      ]
    },
    {
      "cell_type": "code",
      "execution_count": 2,
      "metadata": {},
      "outputs": [],
      "source": [
        "nlp = spacy.load('en_core_sci_lg')\n",
        "nlp.add_pipe(\"scispacy_linker\", config={\"resolve_abbreviations\": True,\n",
        "                                        \"linker_name\": \"umls\",\n",
        "                                        \"threshold\":0.85,\n",
        "                                        \"filter_for_definitions\": False,\n",
        "                                        #\"disabling\": [\"tagger\", \"parser\", \"attribute_ruler\", \"lemmatizer\"]\n",
        "                                        })\n",
        "ruler = nlp.add_pipe(\"entity_ruler\",before=\"tok2vec\")"
      ]
    },
    {
      "cell_type": "code",
      "execution_count": 3,
      "metadata": {},
      "outputs": [],
      "source": [
        "def create_umls_entity_ruler(ruler, df_cleaned_umls_terms):\n",
        "    \"\"\"A dummy docstring.\"\"\"\n",
        "    print(\"Creating UMLS entity ruler...\")\n",
        "    patterns = []\n",
        "    for _, row in tqdm(df_cleaned_umls_terms.iterrows(), total=df_cleaned_umls_terms.shape[0]):\n",
        "        patterns.append(\n",
        "            {\"label\": row[\"CUI\"], \"pattern\": row[\"STR\"], \"id\":row[\"CUI\"]})\n",
        "    ruler.add_patterns(patterns)"
      ]
    },
    {
      "cell_type": "code",
      "execution_count": 4,
      "metadata": {},
      "outputs": [],
      "source": [
        "def process_product_ingredient_groups(df_product_ingredient_groups, nlp, conn):\n",
        "    \"\"\"process_product_ingredient_groups.\"\"\"\n",
        "    print(\"Processing docs...\")\n",
        "    for df_product_ingredient_group in tqdm(df_product_ingredient_groups.iterrows(),\n",
        "                                            total=df_product_ingredient_groups.shape[0]):\n",
        "        doc = nlp(\n",
        "            str(df_product_ingredient_group[1]['name'])\n",
        "        )\n",
        "        product_id = df_product_ingredient_group[1]['id']\n",
        "        term_type = \"PARENT\"\n",
        "        entry_count = 0\n",
        "        for entry in doc.ents:\n",
        "            entry_count += 1\n",
        "            if entry_count != 1:\n",
        "                term_type=\"CHILD\"\n",
        "\n",
        "            if entry._.kb_ents:\n",
        "                umls_cui = entry._.kb_ents[0][0]\n",
        "                umls_term = entry.text\n",
        "                data:ProductUmlsTerms = {\n",
        "                    'product_id':product_id,\n",
        "                    'term_type':term_type,\n",
        "                    'umls_cui':umls_cui,\n",
        "                    'umls_term':umls_term.upper()\n",
        "                }\n",
        "                insert_umls_terms(data, conn)\n",
        "                insert_product_umls_terms(data, conn)"
      ]
    },
    {
      "cell_type": "code",
      "execution_count": null,
      "metadata": {},
      "outputs": [],
      "source": [
        "#spacy.require_gpu()\n",
        "#device = torch.device(\"cuda\" if torch.cuda.is_available() else \"cpu\")\n",
        "df_cleaned_umls_terms = pd.read_csv(f\"{dir_downloads}/umls-data/filtered_umls_atoms.csv\")\n",
        "\n",
        "create_umls_entity_ruler(ruler, df_cleaned_umls_terms)"
      ]
    },
    {
      "cell_type": "code",
      "execution_count": null,
      "metadata": {},
      "outputs": [],
      "source": [
        "df_cleaned_product_ingredient_groups = pd.read_csv(f\"{dir_downloads}/product-ingredient-groups/cleaned_product_ingredient_groups.csv\")\n",
        "\n",
        "conn=postgres_connection()\n",
        "process_product_ingredient_groups(df_cleaned_product_ingredient_groups, nlp, postgres_connection())\n",
        "conn.close()"
      ]
    }
  ],
  "metadata": {
    "kernelspec": {
      "display_name": "Python 3",
      "language": "python",
      "name": "python3"
    },
    "language_info": {
      "codemirror_mode": {
        "name": "ipython",
        "version": 3
      },
      "file_extension": ".py",
      "mimetype": "text/x-python",
      "name": "python",
      "nbconvert_exporter": "python",
      "pygments_lexer": "ipython3",
      "version": "3.10.5"
    },
    "orig_nbformat": 4,
    "vscode": {
      "interpreter": {
        "hash": "98590ff4fe04c8543246b2a01debd3de3c5ca9b666f43f1fa87d5110c692004c"
      }
    }
  },
  "nbformat": 4,
  "nbformat_minor": 2
}
